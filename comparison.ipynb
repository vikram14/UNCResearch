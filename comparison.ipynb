{
 "cells": [
  {
   "cell_type": "code",
   "execution_count": 1,
   "metadata": {},
   "outputs": [
    {
     "name": "stderr",
     "output_type": "stream",
     "text": [
      "C:\\Python39\\lib\\site-packages\\tqdm\\auto.py:22: TqdmWarning: IProgress not found. Please update jupyter and ipywidgets. See https://ipywidgets.readthedocs.io/en/stable/user_install.html\n",
      "  from .autonotebook import tqdm as notebook_tqdm\n",
      "[nltk_data] Downloading package punkt to\n",
      "[nltk_data]     C:\\Users\\vikram14\\AppData\\Roaming\\nltk_data...\n",
      "[nltk_data]   Package punkt is already up-to-date!\n"
     ]
    }
   ],
   "source": [
    "from vectorize import load_json, save_json,vectorize\n",
    "from sklearn.metrics.cluster import adjusted_rand_score,rand_score,normalized_mutual_info_score,pair_confusion_matrix,fowlkes_mallows_score"
   ]
  },
  {
   "cell_type": "code",
   "execution_count": 2,
   "metadata": {},
   "outputs": [],
   "source": [
    "file_path_manual= './comp116/116Q2Solns_Manual_Labeled_new.json'\n",
    "file_path_ncd= './comp116/116Q2Soln-PlagDet-3clust.json' #'./comp116/116Q2Soln-EditDist-12clust.json' #\n",
    "file_path_openai= './comp116/116Q2Soln-OPENAI-3clust.json'"
   ]
  },
  {
   "cell_type": "code",
   "execution_count": 3,
   "metadata": {},
   "outputs": [],
   "source": [
    "manual_clust= load_json(file_path_manual)\n",
    "ncd_clust =load_json(file_path_ncd)\n",
    "openai_clust=load_json(file_path_openai)"
   ]
  },
  {
   "cell_type": "code",
   "execution_count": 4,
   "metadata": {},
   "outputs": [],
   "source": [
    "def clusters_summary(clust,key='label'):\n",
    "    labelToStudents={}\n",
    "    for k, data in clust.items():\n",
    "        if(data[key] not in labelToStudents):\n",
    "            labelToStudents[data[key]]=[]\n",
    "        labelToStudents[data[key]].append(k)\n",
    "    return labelToStudents"
   ]
  },
  {
   "cell_type": "code",
   "execution_count": 5,
   "metadata": {},
   "outputs": [],
   "source": [
    "#summary for clusts \n",
    "labelToStudents_manual=clusters_summary(manual_clust,key='label_order1')\n",
    "labelToStudents_ncd=clusters_summary(ncd_clust)\n",
    "labelToStudents_openai=clusters_summary(openai_clust)"
   ]
  },
  {
   "cell_type": "code",
   "execution_count": 12,
   "metadata": {},
   "outputs": [],
   "source": [
    "def iou(clust1,clust2):\n",
    "    overlap={}\n",
    "    precision={}\n",
    "    for k,v in clust1.items():\n",
    "        set_v =set(v)\n",
    "        max_key=None\n",
    "        max_iou=0\n",
    "        accuracy = 0\n",
    "        for k1,v1 in clust2.items():\n",
    "            intersection = set_v.intersection(v1)\n",
    "            union = set_v.union(v1)\n",
    "            if(len(intersection)/len(union)>=max_iou):\n",
    "                max_iou =len(intersection)/len(union)\n",
    "                max_key = (k,k1)\n",
    "                accuracy = len(intersection)/len(v1)\n",
    "\n",
    "        overlap[max_key]= max_iou \n",
    "        precision[max_key]= accuracy\n",
    "\n",
    "    print(f'iou:{overlap}')\n",
    "    print(\"\\n\")\n",
    "    print(f'accuracy:{precision}')\n"
   ]
  },
  {
   "cell_type": "code",
   "execution_count": 13,
   "metadata": {},
   "outputs": [
    {
     "name": "stdout",
     "output_type": "stream",
     "text": [
      "NCD vs Manual\n",
      "iou:{('1', '1'): 0.9117647058823529, ('2', '2'): 0.9242424242424242, ('3', '3'): 0.8947368421052632}\n",
      "\n",
      "\n",
      "accuracy:{('1', '1'): 1.0, ('2', '2'): 0.953125, ('3', '3'): 0.9315068493150684}\n",
      "*********************\n",
      "OPENAI vs Manual\n",
      "iou:{('3', '1'): 0.4791666666666667, ('2', '2'): 0.5520833333333334, ('1', '3'): 0.589041095890411}\n",
      "\n",
      "\n",
      "accuracy:{('3', '1'): 0.7419354838709677, ('2', '2'): 0.828125, ('1', '3'): 0.589041095890411}\n"
     ]
    }
   ],
   "source": [
    "print('NCD vs Manual')\n",
    "iou(labelToStudents_ncd,labelToStudents_manual)\n",
    "print('*********************')\n",
    "print('OPENAI vs Manual')\n",
    "iou(labelToStudents_openai,labelToStudents_manual)"
   ]
  },
  {
   "cell_type": "code",
   "execution_count": 11,
   "metadata": {},
   "outputs": [
    {
     "name": "stdout",
     "output_type": "stream",
     "text": [
      "NCD vs Manual\n",
      "rand score: 0.932420872540633\n",
      "adjusted rand score: 0.8534034225472276\n",
      "normalized mutual information: 0.8150614207546859\n",
      "fowlkes mallows score: 0.9062665659929612\n",
      "confusion matrix: [[17000   838]\n",
      " [ 1058  9160]]\n",
      "\n",
      "****************************\n",
      "\n",
      "OpenAi vs Manual\n",
      "rand score: 0.6759338465925292\n",
      "adjusted rand score: 0.30443702191100197\n",
      "normalized mutual information: 0.35766867345345504\n",
      "fowlkes mallows score: 0.5613358123883291\n",
      "confusion matrix: [[13148  4690]\n",
      " [ 4402  5816]]\n"
     ]
    }
   ],
   "source": [
    "ncd_clustering =[v['label'] for k, v in ncd_clust.items()]\n",
    "openai_clustering =[v['label'] for k, v in openai_clust.items()]\n",
    "manual_clustering =[v['label_order1'] for k, v in manual_clust.items()]\n",
    "\n",
    "print('NCD vs Manual')\n",
    "print(f'rand score: {rand_score(ncd_clustering, manual_clustering)}')\n",
    "print(f'adjusted rand score: {adjusted_rand_score(ncd_clustering, manual_clustering)}')\n",
    "print(f'normalized mutual information: {normalized_mutual_info_score(ncd_clustering, manual_clustering)}')\n",
    "print(f'fowlkes mallows score: {fowlkes_mallows_score(manual_clustering,ncd_clustering)}')\n",
    "print(f'confusion matrix: {pair_confusion_matrix(manual_clustering,ncd_clustering)}')\n",
    "\n",
    "print()\n",
    "print('*********************************')\n",
    "print()\n",
    "\n",
    "print('OpenAi vs Manual')\n",
    "print(f'rand score: {rand_score(openai_clustering, manual_clustering)}')\n",
    "print(f'adjusted rand score: {adjusted_rand_score(openai_clustering, manual_clustering)}')\n",
    "print(f'normalized mutual information: {normalized_mutual_info_score(openai_clustering, manual_clustering)}')\n",
    "print(f'fowlkes mallows score: {fowlkes_mallows_score(manual_clustering,openai_clustering)}')\n",
    "print(f'confusion matrix: {pair_confusion_matrix(manual_clustering,openai_clustering)}')\n"
   ]
  },
  {
   "cell_type": "code",
   "execution_count": 9,
   "metadata": {},
   "outputs": [
    {
     "name": "stdout",
     "output_type": "stream",
     "text": [
      "[[17000   838]\n",
      " [ 1058  9160]]\n",
      "0.9062665659929612\n"
     ]
    }
   ],
   "source": [
    "print(pair_confusion_matrix(manual_clustering,ncd_clustering))\n",
    "print(fowlkes_mallows_score(manual_clustering,ncd_clustering))\n"
   ]
  }
 ],
 "metadata": {
  "interpreter": {
   "hash": "63fd5069d213b44bf678585dea6b12cceca9941eaf7f819626cde1f2670de90d"
  },
  "kernelspec": {
   "display_name": "Python 3.9.7 64-bit",
   "language": "python",
   "name": "python3"
  },
  "language_info": {
   "codemirror_mode": {
    "name": "ipython",
    "version": 3
   },
   "file_extension": ".py",
   "mimetype": "text/x-python",
   "name": "python",
   "nbconvert_exporter": "python",
   "pygments_lexer": "ipython3",
   "version": "3.9.7"
  },
  "orig_nbformat": 4
 },
 "nbformat": 4,
 "nbformat_minor": 2
}
