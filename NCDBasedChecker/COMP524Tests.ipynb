{
 "metadata": {
  "language_info": {
   "codemirror_mode": {
    "name": "ipython",
    "version": 3
   },
   "file_extension": ".py",
   "mimetype": "text/x-python",
   "name": "python",
   "nbconvert_exporter": "python",
   "pygments_lexer": "ipython3",
   "version": "3.9.1"
  },
  "orig_nbformat": 2,
  "kernelspec": {
   "name": "python391jvsc74a57bd063fd5069d213b44bf678585dea6b12cceca9941eaf7f819626cde1f2670de90d",
   "display_name": "Python 3.9.1 64-bit"
  },
  "metadata": {
   "interpreter": {
    "hash": "63fd5069d213b44bf678585dea6b12cceca9941eaf7f819626cde1f2670de90d"
   }
  }
 },
 "nbformat": 4,
 "nbformat_minor": 2,
 "cells": [
  {
   "cell_type": "code",
   "execution_count": 1,
   "metadata": {},
   "outputs": [],
   "source": [
    "from NCD import NCD\n",
    "import utils\n",
    "from Submission import Submission\n",
    "from NCDClusterer import NCDClusterer\n",
    "import os\n",
    "from tokenizer import JavaTokenizer\n",
    "import numpy as np"
   ]
  },
  {
   "cell_type": "code",
   "execution_count": 21,
   "metadata": {},
   "outputs": [],
   "source": [
    "arr_set1=[r\"C:\\Users\\vikram14\\Desktop\\Research\\GradescopeFileSimilarities\\set1\\NewExpression.java\",r\"C:\\Users\\vikram14\\Desktop\\Research\\GradescopeFileSimilarities\\set1\\NewCompositeExpression.java\",\n",
    "r\"C:\\Users\\vikram14\\Desktop\\Research\\GradescopeFileSimilarities\\set1\\ComplexExpression.java\"]\n",
    "students= [(\"a\",1),(\"b\",2),(\"c\",3)]\n",
    "subs=utils.fileNameArray_to_SubmissionArray(arr_set1,students)\n",
    "utils.deleteFiles()\n",
    "arr_set1_tok,arr_set1_stripped=utils.tokenizeFiles(arr_set1)"
   ]
  },
  {
   "cell_type": "code",
   "execution_count": 3,
   "metadata": {},
   "outputs": [],
   "source": [
    "clusterer=NCDClusterer([],subs)"
   ]
  },
  {
   "cell_type": "code",
   "execution_count": 6,
   "metadata": {},
   "outputs": [
    {
     "output_type": "execute_result",
     "data": {
      "text/plain": [
       "array([[98.90130574, 97.65625603, 90.32836749],\n",
       "       [97.65625603, 98.90130574, 86.64957427],\n",
       "       [90.32836749, 86.64957427, 98.90130574]])"
      ]
     },
     "metadata": {},
     "execution_count": 6
    }
   ],
   "source": [
    "sigmoid(1-clusterer.checkBlockSimilarity(k=5,b=256,s=64))\n"
   ]
  },
  {
   "cell_type": "code",
   "execution_count": 16,
   "metadata": {},
   "outputs": [
    {
     "output_type": "execute_result",
     "data": {
      "text/plain": [
       "array([[98.90130574, 96.51983383, 96.45653381],\n",
       "       [96.51983383, 98.90130574, 96.50479626],\n",
       "       [96.45653381, 96.50479626, 98.90130574]])"
      ]
     },
     "metadata": {},
     "execution_count": 16
    }
   ],
   "source": [
    "subs=utils.fileNameArray_to_SubmissionArray(arr_set1_tok,students)\n",
    "clusterer=NCDClusterer([],subs)\n",
    "sigmoid(1-clusterer.checkBlockSimilarity(k=10,b=1024,s=256))"
   ]
  },
  {
   "cell_type": "code",
   "execution_count": 22,
   "metadata": {},
   "outputs": [
    {
     "output_type": "execute_result",
     "data": {
      "text/plain": [
       "array([[98.90130574, 96.41001956, 96.18577697, 96.22359976],\n",
       "       [96.41001956, 98.90130574, 96.17708272, 95.80381663],\n",
       "       [96.18577697, 96.17708272, 98.90130574, 96.06248168],\n",
       "       [96.22359976, 95.80381663, 96.06248168, 98.90130574]])"
      ]
     },
     "metadata": {},
     "execution_count": 22
    }
   ],
   "source": [
    "arr_set2=[r\"C:\\Users\\vikram14\\Desktop\\Research\\GradescopeFileSimilarities\\set2\\FuncallEval.java\",\n",
    "r\"C:\\Users\\vikram14\\Desktop\\Research\\GradescopeFileSimilarities\\set2\\FuncallEval1.java\",\n",
    "r\"C:\\Users\\vikram14\\Desktop\\Research\\GradescopeFileSimilarities\\set2\\FuncallEvaluator.java\",\n",
    "r\"C:\\Users\\vikram14\\Desktop\\Research\\GradescopeFileSimilarities\\set2\\FuncallEvaluator1.java\"]\n",
    "students= [(\"a\",1),(\"b\",2),(\"c\",3),(\"d\",4),(\"e\",5)]\n",
    "utils.deleteFiles()\n",
    "arr_set2_tok,arr_set2_stripped=utils.tokenizeFiles(arr_set2)\n",
    "subs=utils.fileNameArray_to_SubmissionArray(arr_set2_tok,students)\n",
    "clusterer=NCDClusterer([],subs)\n",
    "1-clusterer.checkBlockSimilarity(k=10,b=1024,s=256)\n",
    "sigmoid(1-clusterer.checkBlockSimilarity(k=10,b=1024,s=256))\n"
   ]
  },
  {
   "cell_type": "code",
   "execution_count": 26,
   "metadata": {},
   "outputs": [
    {
     "output_type": "execute_result",
     "data": {
      "text/plain": [
       "array([[98.90130574,  7.48693642],\n",
       "       [ 7.48693642, 98.90130574]])"
      ]
     },
     "metadata": {},
     "execution_count": 26
    }
   ],
   "source": [
    "arr_set5=[r\"C:\\Users\\vikram14\\Desktop\\Research\\GradescopeFileSimilarities\\set5\\LessThanOrEqualEvaluator.java\",\n",
    "r\"C:\\Users\\vikram14\\Desktop\\Research\\GradescopeFileSimilarities\\set5\\MyLessThanEqualOperation.java\",]\n",
    "students= [(\"a\",1),(\"b\",2),(\"c\",3),(\"d\",4)]\n",
    "utils.deleteFiles()\n",
    "arr_set5_tok,arr_set5_stripped=utils.tokenizeFiles(arr_set5)\n",
    "subs=utils.fileNameArray_to_SubmissionArray(arr_set5_tok,students)\n",
    "clusterer=NCDClusterer([],subs)\n",
    "\n",
    "1-clusterer.checkBlockSimilarity(k=10,b=256,s=64)\n",
    "sigmoid(1-clusterer.checkBlockSimilarity(k=10,b=2048,s=512))\n"
   ]
  },
  {
   "cell_type": "code",
   "execution_count": 5,
   "metadata": {},
   "outputs": [
    {
     "output_type": "execute_result",
     "data": {
      "text/plain": [
       "['c:\\\\Users\\\\vikram14\\\\Desktop\\\\Research\\\\NCDBasedChecker\\\\test-files\\\\TokenizedCode\\\\LessThanOrEqualEvaluator.TOKENIZED.txt',\n",
       " 'c:\\\\Users\\\\vikram14\\\\Desktop\\\\Research\\\\NCDBasedChecker\\\\test-files\\\\TokenizedCode\\\\MyLessThanEqualOperation.TOKENIZED.txt']"
      ]
     },
     "metadata": {},
     "execution_count": 5
    }
   ],
   "source": [
    "arr_set5_tok"
   ]
  },
  {
   "cell_type": "code",
   "execution_count": 27,
   "metadata": {},
   "outputs": [
    {
     "output_type": "execute_result",
     "data": {
      "text/plain": [
       "array([[98.90130574, 91.70110599],\n",
       "       [91.70110599, 98.90130574]])"
      ]
     },
     "metadata": {},
     "execution_count": 27
    }
   ],
   "source": [
    "arr_set4=[r'C:\\Users\\vikram14\\Desktop\\Research\\GradescopeFileSimilarities\\set4\\LambdaEvaluator.java',\n",
    "            r'C:\\Users\\vikram14\\Desktop\\Research\\GradescopeFileSimilarities\\set4\\LambdaEvaluator1.java']\n",
    "students= [(\"a\",1),(\"b\",2)]\n",
    "utils.deleteFiles()\n",
    "arr_set4_tok,arr_set4_stripped=utils.tokenizeFiles(arr_set4)\n",
    "subs=utils.fileNameArray_to_SubmissionArray(arr_set4_tok,students) \n",
    "clusterer=NCDClusterer([],subs)\n",
    "1-clusterer.checkBlockSimilarity(k=10,b=256,s=64) \n",
    "sigmoid(1-clusterer.checkBlockSimilarity(k=10,b=1024,s=256))        "
   ]
  },
  {
   "cell_type": "code",
   "execution_count": 5,
   "metadata": {},
   "outputs": [],
   "source": [
    "def sigmoid (x):\n",
    "    return 1/(1+np.exp(-30*(x-0.85)))*100"
   ]
  },
  {
   "cell_type": "code",
   "execution_count": 23,
   "metadata": {},
   "outputs": [
    {
     "output_type": "execute_result",
     "data": {
      "text/plain": [
       "array([[98.90130574, 89.85877888],\n",
       "       [89.85877888, 98.90130574]])"
      ]
     },
     "metadata": {},
     "execution_count": 23
    }
   ],
   "source": [
    "arr_set3=[r'C:\\Users\\vikram14\\Desktop\\Research\\GradescopeFileSimilarities\\set3\\NewEnvironment.java',\n",
    "            r'C:\\Users\\vikram14\\Desktop\\Research\\GradescopeFileSimilarities\\set3\\NewEnvironment1.java']\n",
    "students= [(\"a\",1),(\"b\",2)]\n",
    "utils.deleteFiles()\n",
    "arr_set3_tok,arr_set3_stripped=utils.tokenizeFiles(arr_set3)\n",
    "subs=utils.fileNameArray_to_SubmissionArray(arr_set3_tok,students) \n",
    "clusterer=NCDClusterer([],subs)\n",
    "1-clusterer.checkBlockSimilarity(k=10,b=256,s=64) \n",
    "sigmoid(1-clusterer.checkBlockSimilarity(k=10,b=1024,s=256))    "
   ]
  },
  {
   "cell_type": "code",
   "execution_count": 24,
   "metadata": {},
   "outputs": [
    {
     "output_type": "execute_result",
     "data": {
      "text/plain": [
       "['c:\\\\Users\\\\vikram14\\\\Desktop\\\\Research\\\\NCDBasedChecker\\\\test-files\\\\TokenizedCode\\\\NewEnvironment.TOKENIZED.txt',\n",
       " 'c:\\\\Users\\\\vikram14\\\\Desktop\\\\Research\\\\NCDBasedChecker\\\\test-files\\\\TokenizedCode\\\\NewEnvironment1.TOKENIZED.txt']"
      ]
     },
     "metadata": {},
     "execution_count": 24
    }
   ],
   "source": [
    "arr_set3_tok"
   ]
  }
 ]
}